{
 "cells": [
  {
   "cell_type": "code",
   "execution_count": 1,
   "metadata": {},
   "outputs": [
    {
     "ename": "TypeError",
     "evalue": "unsupported operand type(s) for +: 'int' and 'str'",
     "output_type": "error",
     "traceback": [
      "\u001b[1;31m---------------------------------------------------------------------------\u001b[0m",
      "\u001b[1;31mTypeError\u001b[0m                                 Traceback (most recent call last)",
      "\u001b[1;32m<ipython-input-1-abf63472aed8>\u001b[0m in \u001b[0;36m<module>\u001b[1;34m\u001b[0m\n\u001b[1;32m----> 1\u001b[1;33m \u001b[1;36m1\u001b[0m \u001b[1;33m+\u001b[0m \u001b[1;34m'a'\u001b[0m\u001b[1;33m\u001b[0m\u001b[1;33m\u001b[0m\u001b[0m\n\u001b[0m",
      "\u001b[1;31mTypeError\u001b[0m: unsupported operand type(s) for +: 'int' and 'str'"
     ]
    }
   ],
   "source": [
    "1 + 'a'"
   ]
  },
  {
   "cell_type": "code",
   "execution_count": 3,
   "metadata": {},
   "outputs": [
    {
     "ename": "ValueError",
     "evalue": "invalid literal for int() with base 10: 'a'",
     "output_type": "error",
     "traceback": [
      "\u001b[1;31m---------------------------------------------------------------------------\u001b[0m",
      "\u001b[1;31mValueError\u001b[0m                                Traceback (most recent call last)",
      "\u001b[1;32m<ipython-input-3-233884bacd4e>\u001b[0m in \u001b[0;36m<module>\u001b[1;34m\u001b[0m\n\u001b[1;32m----> 1\u001b[1;33m \u001b[0mint\u001b[0m\u001b[1;33m(\u001b[0m\u001b[1;34m'a'\u001b[0m\u001b[1;33m)\u001b[0m\u001b[1;33m\u001b[0m\u001b[1;33m\u001b[0m\u001b[0m\n\u001b[0m",
      "\u001b[1;31mValueError\u001b[0m: invalid literal for int() with base 10: 'a'"
     ]
    }
   ],
   "source": [
    "int('a')"
   ]
  },
  {
   "cell_type": "code",
   "execution_count": 5,
   "metadata": {},
   "outputs": [
    {
     "ename": "AttributeError",
     "evalue": "'list' object has no attribute 'upper'",
     "output_type": "error",
     "traceback": [
      "\u001b[1;31m---------------------------------------------------------------------------\u001b[0m",
      "\u001b[1;31mAttributeError\u001b[0m                            Traceback (most recent call last)",
      "\u001b[1;32m<ipython-input-5-9fa8b0af59ef>\u001b[0m in \u001b[0;36m<module>\u001b[1;34m\u001b[0m\n\u001b[0;32m      1\u001b[0m \u001b[0mL\u001b[0m \u001b[1;33m=\u001b[0m \u001b[1;33m[\u001b[0m\u001b[1;36m1\u001b[0m\u001b[1;33m,\u001b[0m\u001b[1;36m2\u001b[0m\u001b[1;33m,\u001b[0m\u001b[1;36m3\u001b[0m\u001b[1;33m]\u001b[0m\u001b[1;33m\u001b[0m\u001b[1;33m\u001b[0m\u001b[0m\n\u001b[1;32m----> 2\u001b[1;33m \u001b[0mL\u001b[0m\u001b[1;33m.\u001b[0m\u001b[0mupper\u001b[0m\u001b[1;33m(\u001b[0m\u001b[1;33m)\u001b[0m\u001b[1;33m\u001b[0m\u001b[1;33m\u001b[0m\u001b[0m\n\u001b[0m",
      "\u001b[1;31mAttributeError\u001b[0m: 'list' object has no attribute 'upper'"
     ]
    }
   ],
   "source": [
    "L = [1,2,3]\n",
    "L.upper()"
   ]
  },
  {
   "cell_type": "code",
   "execution_count": 6,
   "metadata": {},
   "outputs": [
    {
     "ename": "NameError",
     "evalue": "name 'k' is not defined",
     "output_type": "error",
     "traceback": [
      "\u001b[1;31m---------------------------------------------------------------------------\u001b[0m",
      "\u001b[1;31mNameError\u001b[0m                                 Traceback (most recent call last)",
      "\u001b[1;32m<ipython-input-6-eb2fa875d160>\u001b[0m in \u001b[0;36m<module>\u001b[1;34m\u001b[0m\n\u001b[1;32m----> 1\u001b[1;33m \u001b[0mprint\u001b[0m\u001b[1;33m(\u001b[0m\u001b[0mk\u001b[0m\u001b[1;33m)\u001b[0m\u001b[1;33m\u001b[0m\u001b[1;33m\u001b[0m\u001b[0m\n\u001b[0m",
      "\u001b[1;31mNameError\u001b[0m: name 'k' is not defined"
     ]
    }
   ],
   "source": [
    "print(k)"
   ]
  },
  {
   "cell_type": "code",
   "execution_count": 1,
   "metadata": {},
   "outputs": [
    {
     "ename": "IndexError",
     "evalue": "list index out of range",
     "output_type": "error",
     "traceback": [
      "\u001b[1;31m---------------------------------------------------------------------------\u001b[0m",
      "\u001b[1;31mIndexError\u001b[0m                                Traceback (most recent call last)",
      "\u001b[1;32m<ipython-input-1-19a76872fa38>\u001b[0m in \u001b[0;36m<module>\u001b[1;34m\u001b[0m\n\u001b[0;32m      1\u001b[0m \u001b[0ml\u001b[0m\u001b[1;33m=\u001b[0m \u001b[1;33m[\u001b[0m\u001b[1;36m1\u001b[0m\u001b[1;33m,\u001b[0m\u001b[1;36m2\u001b[0m\u001b[1;33m,\u001b[0m\u001b[1;36m3\u001b[0m\u001b[1;33m]\u001b[0m\u001b[1;33m\u001b[0m\u001b[1;33m\u001b[0m\u001b[0m\n\u001b[1;32m----> 2\u001b[1;33m \u001b[0ml\u001b[0m\u001b[1;33m[\u001b[0m\u001b[1;36m10\u001b[0m\u001b[1;33m]\u001b[0m\u001b[1;33m\u001b[0m\u001b[1;33m\u001b[0m\u001b[0m\n\u001b[0m",
      "\u001b[1;31mIndexError\u001b[0m: list index out of range"
     ]
    }
   ],
   "source": [
    "l= [1,2,3]\n",
    "l[10]"
   ]
  },
  {
   "cell_type": "code",
   "execution_count": 2,
   "metadata": {},
   "outputs": [],
   "source": [
    "# key error"
   ]
  },
  {
   "cell_type": "code",
   "execution_count": 4,
   "metadata": {},
   "outputs": [
    {
     "data": {
      "text/plain": [
       "'siddhi'"
      ]
     },
     "execution_count": 4,
     "metadata": {},
     "output_type": "execute_result"
    }
   ],
   "source": [
    "d = {'name' : 'siddhi'}\n",
    "d['name']"
   ]
  },
  {
   "cell_type": "code",
   "execution_count": 5,
   "metadata": {},
   "outputs": [
    {
     "ename": "KeyError",
     "evalue": "'age'",
     "output_type": "error",
     "traceback": [
      "\u001b[1;31m---------------------------------------------------------------------------\u001b[0m",
      "\u001b[1;31mKeyError\u001b[0m                                  Traceback (most recent call last)",
      "\u001b[1;32m<ipython-input-5-d8f014cca7d0>\u001b[0m in \u001b[0;36m<module>\u001b[1;34m\u001b[0m\n\u001b[1;32m----> 1\u001b[1;33m \u001b[0md\u001b[0m\u001b[1;33m[\u001b[0m\u001b[1;34m'age'\u001b[0m\u001b[1;33m]\u001b[0m\u001b[1;33m\u001b[0m\u001b[1;33m\u001b[0m\u001b[0m\n\u001b[0m",
      "\u001b[1;31mKeyError\u001b[0m: 'age'"
     ]
    }
   ],
   "source": [
    "d['age']"
   ]
  },
  {
   "cell_type": "markdown",
   "metadata": {},
   "source": [
    "## Exceptions"
   ]
  },
  {
   "cell_type": "markdown",
   "metadata": {},
   "source": [
    "### Examples\n",
    "\n",
    "- memory overflow\n",
    "- divide by 0 - logical error\n",
    "- database error"
   ]
  },
  {
   "cell_type": "code",
   "execution_count": 6,
   "metadata": {},
   "outputs": [],
   "source": [
    "# how to handle exceptions"
   ]
  },
  {
   "cell_type": "code",
   "execution_count": 7,
   "metadata": {},
   "outputs": [],
   "source": [
    "# try except block"
   ]
  },
  {
   "cell_type": "code",
   "execution_count": 8,
   "metadata": {},
   "outputs": [],
   "source": [
    "# lets create a file"
   ]
  },
  {
   "cell_type": "code",
   "execution_count": 20,
   "metadata": {},
   "outputs": [],
   "source": [
    "with open(\"sample.txt\", 'w') as f:\n",
    "    f.write('Hello world')"
   ]
  },
  {
   "cell_type": "code",
   "execution_count": 21,
   "metadata": {},
   "outputs": [
    {
     "name": "stdout",
     "output_type": "stream",
     "text": [
      "Hello world\n"
     ]
    }
   ],
   "source": [
    "with open(\"sample.txt\", 'r') as f:\n",
    "    print(f.read())"
   ]
  },
  {
   "cell_type": "code",
   "execution_count": 22,
   "metadata": {},
   "outputs": [
    {
     "ename": "FileNotFoundError",
     "evalue": "[Errno 2] No such file or directory: 'sample1.txt'",
     "output_type": "error",
     "traceback": [
      "\u001b[1;31m---------------------------------------------------------------------------\u001b[0m",
      "\u001b[1;31mFileNotFoundError\u001b[0m                         Traceback (most recent call last)",
      "\u001b[1;32m<ipython-input-22-49c8bd631d6f>\u001b[0m in \u001b[0;36m<module>\u001b[1;34m\u001b[0m\n\u001b[1;32m----> 1\u001b[1;33m \u001b[1;32mwith\u001b[0m \u001b[0mopen\u001b[0m\u001b[1;33m(\u001b[0m\u001b[1;34m\"sample1.txt\"\u001b[0m\u001b[1;33m,\u001b[0m \u001b[1;34m'r'\u001b[0m\u001b[1;33m)\u001b[0m \u001b[1;32mas\u001b[0m \u001b[0mf\u001b[0m\u001b[1;33m:\u001b[0m\u001b[1;33m\u001b[0m\u001b[1;33m\u001b[0m\u001b[0m\n\u001b[0m\u001b[0;32m      2\u001b[0m     \u001b[0mprint\u001b[0m\u001b[1;33m(\u001b[0m\u001b[0mf\u001b[0m\u001b[1;33m.\u001b[0m\u001b[0mread\u001b[0m\u001b[1;33m(\u001b[0m\u001b[1;33m)\u001b[0m\u001b[1;33m)\u001b[0m\u001b[1;33m\u001b[0m\u001b[1;33m\u001b[0m\u001b[0m\n",
      "\u001b[1;31mFileNotFoundError\u001b[0m: [Errno 2] No such file or directory: 'sample1.txt'"
     ]
    }
   ],
   "source": [
    "with open(\"sample1.txt\", 'r') as f:\n",
    "    print(f.read())"
   ]
  },
  {
   "cell_type": "code",
   "execution_count": 23,
   "metadata": {},
   "outputs": [
    {
     "name": "stdout",
     "output_type": "stream",
     "text": [
      "sorry file not found\n"
     ]
    }
   ],
   "source": [
    "try:\n",
    "    with open(\"sample1.txt\", 'r') as f:\n",
    "        print(f.read())\n",
    "except:\n",
    "    print(\"sorry file not found\")"
   ]
  },
  {
   "cell_type": "code",
   "execution_count": 44,
   "metadata": {},
   "outputs": [],
   "source": [
    "## Catching Specific exception"
   ]
  },
  {
   "cell_type": "code",
   "execution_count": 24,
   "metadata": {},
   "outputs": [
    {
     "name": "stdout",
     "output_type": "stream",
     "text": [
      "some error occured\n"
     ]
    }
   ],
   "source": [
    "try:\n",
    "    f = open(\"sample1.txt\", 'r')\n",
    "    print(f.read())\n",
    "    print(m)\n",
    "except:\n",
    "    print(\"some error occured\")"
   ]
  },
  {
   "cell_type": "code",
   "execution_count": 25,
   "metadata": {},
   "outputs": [
    {
     "name": "stdout",
     "output_type": "stream",
     "text": [
      "Hello world\n",
      "some error occured\n"
     ]
    }
   ],
   "source": [
    "try:\n",
    "    f = open(\"sample.txt\", 'r')\n",
    "    print(f.read())\n",
    "    print(m)\n",
    "except:\n",
    "    print(\"some error occured\")"
   ]
  },
  {
   "cell_type": "code",
   "execution_count": 26,
   "metadata": {},
   "outputs": [
    {
     "name": "stdout",
     "output_type": "stream",
     "text": [
      "Hello world\n",
      "name 'm' is not defined\n"
     ]
    }
   ],
   "source": [
    "try:\n",
    "    f = open(\"sample.txt\", 'r')\n",
    "    print(f.read())\n",
    "    print(m)\n",
    "except Exception as e:\n",
    "    print(e)"
   ]
  },
  {
   "cell_type": "code",
   "execution_count": 28,
   "metadata": {},
   "outputs": [
    {
     "name": "stdout",
     "output_type": "stream",
     "text": [
      "Hello world\n",
      "<built-in method with_traceback of NameError object at 0x0000028CF6A59168>\n"
     ]
    }
   ],
   "source": [
    "try:\n",
    "    f = open(\"sample.txt\", 'r')\n",
    "    print(f.read())\n",
    "    print(m)\n",
    "except Exception as e:\n",
    "    print(e.with_traceback)"
   ]
  },
  {
   "cell_type": "code",
   "execution_count": 29,
   "metadata": {},
   "outputs": [
    {
     "name": "stdout",
     "output_type": "stream",
     "text": [
      "<built-in method with_traceback of FileNotFoundError object at 0x0000028CF6A550D8>\n"
     ]
    }
   ],
   "source": [
    "try:\n",
    "    f = open(\"sample1.txt\", 'r')\n",
    "    print(f.read())\n",
    "    print(m)\n",
    "except Exception as e:\n",
    "    print(e.with_traceback)"
   ]
  },
  {
   "cell_type": "code",
   "execution_count": 30,
   "metadata": {},
   "outputs": [
    {
     "name": "stdout",
     "output_type": "stream",
     "text": [
      "file not found\n"
     ]
    }
   ],
   "source": [
    "try:\n",
    "    f = open(\"sample1.txt\", 'r')\n",
    "    print(f.read())\n",
    "    print(m)\n",
    "except FileNotFoundError:\n",
    "    print(\"file not found\")\n",
    "except NameError:\n",
    "    print(\"name is not defined\")"
   ]
  },
  {
   "cell_type": "code",
   "execution_count": 40,
   "metadata": {},
   "outputs": [
    {
     "name": "stdout",
     "output_type": "stream",
     "text": [
      "Hello world\n",
      "variable is not defined\n"
     ]
    }
   ],
   "source": [
    "try:\n",
    "    f = open(\"sample.txt\", 'r')\n",
    "    print(f.read())\n",
    "    print(k)\n",
    "    \n",
    "except FileNotFoundError:\n",
    "    print(\"file not found\")\n",
    "except NameError:\n",
    "    print(\"variable is not defined\")"
   ]
  },
  {
   "cell_type": "code",
   "execution_count": 41,
   "metadata": {},
   "outputs": [
    {
     "name": "stdout",
     "output_type": "stream",
     "text": [
      "Hello world\n",
      "1\n",
      "cannot divide by zero\n"
     ]
    }
   ],
   "source": [
    "try:\n",
    "    k=1\n",
    "    f = open(\"sample.txt\", 'r')\n",
    "    print(f.read())\n",
    "    print(k)\n",
    "    \n",
    "    print(5/0)\n",
    "    \n",
    "except FileNotFoundError:\n",
    "    print(\"file not found\")\n",
    "except NameError:\n",
    "    print(\"variable is not defined\")\n",
    "except ZeroDivisionError:\n",
    "    print(\"cannot divide by zero\")"
   ]
  },
  {
   "cell_type": "code",
   "execution_count": 42,
   "metadata": {},
   "outputs": [
    {
     "name": "stdout",
     "output_type": "stream",
     "text": [
      "Hello world\n",
      "5\n",
      "2.5\n",
      "list index out of range\n"
     ]
    }
   ],
   "source": [
    "try:\n",
    "    m = 5\n",
    "    f = open(\"sample.txt\", 'r')\n",
    "    print(f.read())\n",
    "    print(m)\n",
    "    print(5/2)\n",
    "    \n",
    "    l = [1,2,3]\n",
    "    l[10]\n",
    "    \n",
    "except FileNotFoundError:\n",
    "    print(\"file not found\")\n",
    "except NameError:\n",
    "    print(\"variable is not defined\")\n",
    "except ZeroDivisionError:\n",
    "    print(\"can't divide by zero\")\n",
    "except Exception as e:\n",
    "    print(e)"
   ]
  },
  {
   "cell_type": "code",
   "execution_count": 43,
   "metadata": {},
   "outputs": [
    {
     "name": "stdout",
     "output_type": "stream",
     "text": [
      "Hello world\n",
      "5\n",
      "2.5\n",
      "<built-in method with_traceback of IndexError object at 0x0000028CF6A69B88>\n"
     ]
    }
   ],
   "source": [
    "try:\n",
    "    m = 5\n",
    "    f = open(\"sample.txt\", 'r')\n",
    "    print(f.read())\n",
    "    print(m)\n",
    "    print(5/2)\n",
    "    \n",
    "    l = [1,2,3]\n",
    "    l[10]\n",
    "    \n",
    "except FileNotFoundError:\n",
    "    print(\"file not found\")\n",
    "except NameError:\n",
    "    print(\"variable is not defined\")\n",
    "except ZeroDivisionError:\n",
    "    print(\"can't divide by zero\")\n",
    "except Exception as e:\n",
    "    print(e.with_traceback)"
   ]
  },
  {
   "cell_type": "code",
   "execution_count": 45,
   "metadata": {},
   "outputs": [
    {
     "name": "stdout",
     "output_type": "stream",
     "text": [
      "[Errno 2] No such file or directory: 'sample1.txt'\n"
     ]
    }
   ],
   "source": [
    "try:\n",
    "    m = 5\n",
    "    f = open(\"sample1.txt\", 'r')\n",
    "    print(f.read())\n",
    "    print(m)\n",
    "    print(5/2)\n",
    "    \n",
    "    l = [1,2,3]\n",
    "    l[10]\n",
    "\n",
    "except Exception as e:\n",
    "    print(e)\n",
    "except FileNotFoundError:\n",
    "    print(\"file not found\")\n",
    "except NameError:\n",
    "    print(\"variable is not defined\")\n",
    "except ZeroDivisionError:\n",
    "    print(\"can't divide by zero\")\n"
   ]
  },
  {
   "cell_type": "code",
   "execution_count": 46,
   "metadata": {},
   "outputs": [
    {
     "name": "stdout",
     "output_type": "stream",
     "text": [
      "Hello world\n"
     ]
    }
   ],
   "source": [
    "# else\n",
    "\n",
    "try:\n",
    "    f = open(\"sample.txt\", 'r')\n",
    "except FileNotFoundError:\n",
    "    print(\"file not found\")\n",
    "except Exception as e:\n",
    "    print(e)\n",
    "else:\n",
    "    print(f.read())\n",
    "    "
   ]
  },
  {
   "cell_type": "code",
   "execution_count": 47,
   "metadata": {},
   "outputs": [
    {
     "name": "stdout",
     "output_type": "stream",
     "text": [
      "file not found\n"
     ]
    }
   ],
   "source": [
    "# else\n",
    "\n",
    "try:\n",
    "    f = open(\"sample1.txt\", 'r')\n",
    "except FileNotFoundError:\n",
    "    print(\"file not found\")\n",
    "except Exception as e:\n",
    "    print(e)\n",
    "else:\n",
    "    print(f.read())\n",
    "    "
   ]
  },
  {
   "cell_type": "code",
   "execution_count": 48,
   "metadata": {},
   "outputs": [],
   "source": [
    "# finally"
   ]
  },
  {
   "cell_type": "code",
   "execution_count": 49,
   "metadata": {},
   "outputs": [
    {
     "name": "stdout",
     "output_type": "stream",
     "text": [
      "Hello world\n",
      "This will work for sure\n"
     ]
    }
   ],
   "source": [
    "# else\n",
    "\n",
    "try:\n",
    "    f = open(\"sample.txt\", 'r')\n",
    "except FileNotFoundError:\n",
    "    print(\"file not found\")\n",
    "except Exception as e:\n",
    "    print(e)\n",
    "else:\n",
    "    print(f.read())\n",
    "finally:\n",
    "    print(\"This will work for sure\")\n",
    "    "
   ]
  },
  {
   "cell_type": "code",
   "execution_count": 51,
   "metadata": {},
   "outputs": [
    {
     "name": "stdout",
     "output_type": "stream",
     "text": [
      "file not found\n",
      "this will work for sure\n"
     ]
    }
   ],
   "source": [
    "# else\n",
    "\n",
    "try:\n",
    "    f = open(\"sample1.txt\", 'r')\n",
    "except FileNotFoundError:\n",
    "    print(\"file not found\")\n",
    "except Exception as e:\n",
    "    print(e)\n",
    "else:\n",
    "    print(f.read())\n",
    "finally:\n",
    "    print(\"this will work for sure\")\n",
    "    "
   ]
  },
  {
   "cell_type": "code",
   "execution_count": 52,
   "metadata": {},
   "outputs": [],
   "source": [
    "# raise exception"
   ]
  },
  {
   "cell_type": "code",
   "execution_count": 53,
   "metadata": {},
   "outputs": [
    {
     "ename": "NameError",
     "evalue": "",
     "output_type": "error",
     "traceback": [
      "\u001b[1;31m---------------------------------------------------------------------------\u001b[0m",
      "\u001b[1;31mNameError\u001b[0m                                 Traceback (most recent call last)",
      "\u001b[1;32m<ipython-input-53-42b67b2fc75d>\u001b[0m in \u001b[0;36m<module>\u001b[1;34m\u001b[0m\n\u001b[1;32m----> 1\u001b[1;33m \u001b[1;32mraise\u001b[0m \u001b[0mNameError\u001b[0m\u001b[1;33m\u001b[0m\u001b[1;33m\u001b[0m\u001b[0m\n\u001b[0m",
      "\u001b[1;31mNameError\u001b[0m: "
     ]
    }
   ],
   "source": [
    "raise NameError"
   ]
  },
  {
   "cell_type": "code",
   "execution_count": 54,
   "metadata": {},
   "outputs": [
    {
     "ename": "NameError",
     "evalue": "example",
     "output_type": "error",
     "traceback": [
      "\u001b[1;31m---------------------------------------------------------------------------\u001b[0m",
      "\u001b[1;31mNameError\u001b[0m                                 Traceback (most recent call last)",
      "\u001b[1;32m<ipython-input-54-d063b35e6705>\u001b[0m in \u001b[0;36m<module>\u001b[1;34m\u001b[0m\n\u001b[1;32m----> 1\u001b[1;33m \u001b[1;32mraise\u001b[0m \u001b[0mNameError\u001b[0m\u001b[1;33m(\u001b[0m\u001b[1;34m\"example\"\u001b[0m\u001b[1;33m)\u001b[0m\u001b[1;33m\u001b[0m\u001b[1;33m\u001b[0m\u001b[0m\n\u001b[0m",
      "\u001b[1;31mNameError\u001b[0m: example"
     ]
    }
   ],
   "source": [
    "raise NameError(\"example\")"
   ]
  },
  {
   "cell_type": "code",
   "execution_count": 57,
   "metadata": {},
   "outputs": [
    {
     "name": "stdout",
     "output_type": "stream",
     "text": [
      "5000\n"
     ]
    }
   ],
   "source": [
    "class Bank:\n",
    "    def __init__(self,balance):\n",
    "        self.balance = balance\n",
    "        \n",
    "    def withdraw(self, amount):\n",
    "        if amount < 0:\n",
    "            raise Exception(\"amount cannot be negative\")\n",
    "        if self.balance < amount:\n",
    "            raise Exception(\"Insufficient Balance\")\n",
    "            \n",
    "        self.balance = self.balance - amount\n",
    "        \n",
    "\n",
    "hdfc = Bank(10000)\n",
    "try:\n",
    "    hdfc.withdraw(5000)\n",
    "except Exception as e:\n",
    "    print(e)\n",
    "else:\n",
    "    print(hdfc.balance)"
   ]
  },
  {
   "cell_type": "code",
   "execution_count": 56,
   "metadata": {},
   "outputs": [
    {
     "data": {
      "text/plain": [
       "5000"
      ]
     },
     "execution_count": 56,
     "metadata": {},
     "output_type": "execute_result"
    }
   ],
   "source": [
    "hdfc.balance"
   ]
  },
  {
   "cell_type": "code",
   "execution_count": 58,
   "metadata": {},
   "outputs": [
    {
     "name": "stdout",
     "output_type": "stream",
     "text": [
      "amount cannot be negative\n"
     ]
    }
   ],
   "source": [
    "class Bank:\n",
    "    def __init__(self,balance):\n",
    "        self.balance = balance\n",
    "        \n",
    "    def withdraw(self, amount):\n",
    "        if amount < 0:\n",
    "            raise Exception(\"amount cannot be negative\")\n",
    "        if self.balance < amount:\n",
    "            raise Exception(\"Insufficient Balance\")\n",
    "            \n",
    "        self.balance = self.balance - amount\n",
    "        \n",
    "\n",
    "hdfc = Bank(10000)\n",
    "try:\n",
    "    hdfc.withdraw(-5000)\n",
    "except Exception as e:\n",
    "    print(e)\n",
    "else:\n",
    "    print(hdfc.balance)"
   ]
  },
  {
   "cell_type": "code",
   "execution_count": 59,
   "metadata": {},
   "outputs": [
    {
     "name": "stdout",
     "output_type": "stream",
     "text": [
      "Insufficient Balance\n"
     ]
    }
   ],
   "source": [
    "class Bank:\n",
    "    def __init__(self,balance):\n",
    "        self.balance = balance\n",
    "        \n",
    "    def withdraw(self, amount):\n",
    "        if amount < 0:\n",
    "            raise Exception(\"amount cannot be negative\")\n",
    "        if self.balance < amount:\n",
    "            raise Exception(\"Insufficient Balance\")\n",
    "            \n",
    "        self.balance = self.balance - amount\n",
    "        \n",
    "\n",
    "hdfc = Bank(10000)\n",
    "try:\n",
    "    hdfc.withdraw(15000)\n",
    "except Exception as e:\n",
    "    print(e)\n",
    "else:\n",
    "    print(hdfc.balance)"
   ]
  },
  {
   "cell_type": "code",
   "execution_count": 60,
   "metadata": {},
   "outputs": [],
   "source": [
    "# Creating Custom exception"
   ]
  },
  {
   "cell_type": "code",
   "execution_count": 62,
   "metadata": {},
   "outputs": [
    {
     "name": "stdout",
     "output_type": "stream",
     "text": [
      "Insufficient Balance\n"
     ]
    }
   ],
   "source": [
    "class MyException(Exception):\n",
    "    \n",
    "    def __init__(self, message):\n",
    "        print(message)\n",
    "        \n",
    "class Bank:\n",
    "    def __init__(self,balance):\n",
    "        self.balance = balance\n",
    "        \n",
    "    def withdraw(self, amount):\n",
    "        if amount < 0:\n",
    "            raise MyException(\"amount cannot be negative\")\n",
    "        if self.balance < amount:\n",
    "            raise MyException(\"Insufficient Balance\")\n",
    "            \n",
    "        self.balance = self.balance - amount\n",
    "        \n",
    "\n",
    "hdfc = Bank(10000)\n",
    "try:\n",
    "    hdfc.withdraw(15000)\n",
    "except MyException as e:\n",
    "    pass\n",
    "else:\n",
    "    print(hdfc.balance)"
   ]
  },
  {
   "cell_type": "code",
   "execution_count": 67,
   "metadata": {},
   "outputs": [
    {
     "name": "stdout",
     "output_type": "stream",
     "text": [
      "welcome siddhi\n",
      "siddhi\n",
      "Database connection closed\n"
     ]
    }
   ],
   "source": [
    "class SecurityError(Exception):\n",
    "    \n",
    "    def __init__(self,message):\n",
    "        print(message)\n",
    "        \n",
    "    def logout(self):\n",
    "        print(\"logout\")\n",
    "\n",
    "class Google:\n",
    "    \n",
    "    def __init__(self, name, email, password, device):\n",
    "        self.name = name\n",
    "        self.email = email\n",
    "        self.password = password\n",
    "        self.device = device\n",
    "        \n",
    "    def login(self, email, password, device):\n",
    "        if device != self.device:\n",
    "            raise SecurityError(\"someone trying to login to your account from another device\")\n",
    "        if email == self.email and password == self.password:\n",
    "            print(\"welcome \" + self.name)\n",
    "        else:\n",
    "            print(\"login error\")\n",
    "        \n",
    "obj = Google('siddhi', 'siddhigolatkar@gmail.com', '1234', 'android')\n",
    "\n",
    "try:\n",
    "    obj.login('siddhigolatkar@gmail.com', '1234', 'android')\n",
    "except SecurityError as e:\n",
    "    e.logout()\n",
    "else:\n",
    "    print(obj.name)\n",
    "finally:\n",
    "    print(\"Database connection closed\")\n",
    "    "
   ]
  },
  {
   "cell_type": "code",
   "execution_count": 68,
   "metadata": {},
   "outputs": [
    {
     "name": "stdout",
     "output_type": "stream",
     "text": [
      "someone trying to login to your account from another device\n",
      "logout\n",
      "Database connection closed\n"
     ]
    }
   ],
   "source": [
    "class SecurityError(Exception):\n",
    "    \n",
    "    def __init__(self,message):\n",
    "        print(message)\n",
    "        \n",
    "    def logout(self):\n",
    "        print(\"logout\")\n",
    "\n",
    "class Google:\n",
    "    \n",
    "    def __init__(self, name, email, password, device):\n",
    "        self.name = name\n",
    "        self.email = email\n",
    "        self.password = password\n",
    "        self.device = device\n",
    "        \n",
    "    def login(self, email, password, device):\n",
    "        if device != self.device:\n",
    "            raise SecurityError(\"someone trying to login to your account from another device\")\n",
    "        if email == self.email and password == self.password:\n",
    "            print(\"welcome \" + self.name)\n",
    "        else:\n",
    "            print(\"login error\")\n",
    "        \n",
    "obj = Google('siddhi', 'siddhigolatkar@gmail.com', '1234', 'android')\n",
    "\n",
    "try:\n",
    "    obj.login('siddhigolatkar@gmail.com', '1234', 'windows')\n",
    "except SecurityError as e:\n",
    "    e.logout()\n",
    "else:\n",
    "    print(obj.name)\n",
    "finally:\n",
    "    print(\"Database connection closed\")\n",
    "    "
   ]
  },
  {
   "cell_type": "code",
   "execution_count": null,
   "metadata": {},
   "outputs": [],
   "source": []
  },
  {
   "cell_type": "code",
   "execution_count": null,
   "metadata": {},
   "outputs": [],
   "source": []
  },
  {
   "cell_type": "code",
   "execution_count": null,
   "metadata": {},
   "outputs": [],
   "source": []
  },
  {
   "cell_type": "code",
   "execution_count": null,
   "metadata": {},
   "outputs": [],
   "source": []
  },
  {
   "cell_type": "code",
   "execution_count": null,
   "metadata": {},
   "outputs": [],
   "source": []
  },
  {
   "cell_type": "code",
   "execution_count": null,
   "metadata": {},
   "outputs": [],
   "source": []
  },
  {
   "cell_type": "code",
   "execution_count": null,
   "metadata": {},
   "outputs": [],
   "source": []
  },
  {
   "cell_type": "code",
   "execution_count": null,
   "metadata": {},
   "outputs": [],
   "source": []
  }
 ],
 "metadata": {
  "kernelspec": {
   "display_name": "Python 3",
   "language": "python",
   "name": "python3"
  },
  "language_info": {
   "codemirror_mode": {
    "name": "ipython",
    "version": 3
   },
   "file_extension": ".py",
   "mimetype": "text/x-python",
   "name": "python",
   "nbconvert_exporter": "python",
   "pygments_lexer": "ipython3",
   "version": "3.7.6"
  }
 },
 "nbformat": 4,
 "nbformat_minor": 4
}
